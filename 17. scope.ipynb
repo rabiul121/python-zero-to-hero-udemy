{
 "cells": [
  {
   "cell_type": "markdown",
   "source": [
    "### Scope"
   ],
   "metadata": {
    "collapsed": false
   },
   "id": "929ac2d953aa6b18"
  },
  {
   "cell_type": "code",
   "execution_count": 1,
   "outputs": [],
   "source": [
    "x = 50"
   ],
   "metadata": {
    "collapsed": false,
    "ExecuteTime": {
     "end_time": "2023-10-28T11:08:39.326853900Z",
     "start_time": "2023-10-28T11:08:39.326346900Z"
    }
   },
   "id": "48ae437bfe756b3"
  },
  {
   "cell_type": "code",
   "execution_count": 2,
   "outputs": [],
   "source": [
    "def printer():\n",
    "    x = 100\n",
    "    print(x)"
   ],
   "metadata": {
    "collapsed": false,
    "ExecuteTime": {
     "end_time": "2023-10-28T11:08:48.319498500Z",
     "start_time": "2023-10-28T11:08:48.317489900Z"
    }
   },
   "id": "84304381d92e1812"
  },
  {
   "cell_type": "code",
   "execution_count": 3,
   "outputs": [
    {
     "name": "stdout",
     "output_type": "stream",
     "text": [
      "100\n"
     ]
    }
   ],
   "source": [
    "printer()"
   ],
   "metadata": {
    "collapsed": false,
    "ExecuteTime": {
     "end_time": "2023-10-28T11:08:49.730518500Z",
     "start_time": "2023-10-28T11:08:49.719483200Z"
    }
   },
   "id": "c4c3580c89df41eb"
  },
  {
   "cell_type": "code",
   "execution_count": 4,
   "outputs": [
    {
     "name": "stdout",
     "output_type": "stream",
     "text": [
      "50\n"
     ]
    }
   ],
   "source": [
    "print(x)"
   ],
   "metadata": {
    "collapsed": false,
    "ExecuteTime": {
     "end_time": "2023-10-28T11:08:50.651387400Z",
     "start_time": "2023-10-28T11:08:50.651387400Z"
    }
   },
   "id": "9d347f382d11fae4"
  },
  {
   "cell_type": "code",
   "execution_count": 5,
   "outputs": [],
   "source": [
    "# GLOBAL\n",
    "name = 'This is a global string'\n",
    "\n",
    "\n",
    "def greet():\n",
    "    \n",
    "    # ENCLOSING\n",
    "    name = 'Robi'\n",
    "\n",
    "    def hello():\n",
    "        # LOCAL\n",
    "        name = 'I am local!'\n",
    "        print('Hello ' + name)\n",
    "\n",
    "    hello()"
   ],
   "metadata": {
    "collapsed": false,
    "ExecuteTime": {
     "end_time": "2023-10-28T11:08:51.865893200Z",
     "start_time": "2023-10-28T11:08:51.857883800Z"
    }
   },
   "id": "2d77870f6e0e38e5"
  },
  {
   "cell_type": "code",
   "execution_count": 6,
   "outputs": [
    {
     "name": "stdout",
     "output_type": "stream",
     "text": [
      "Hello I am local!\n"
     ]
    }
   ],
   "source": [
    "greet()"
   ],
   "metadata": {
    "collapsed": false,
    "ExecuteTime": {
     "end_time": "2023-10-28T11:08:53.710342100Z",
     "start_time": "2023-10-28T11:08:53.693523300Z"
    }
   },
   "id": "2b046943c1d6c007"
  },
  {
   "cell_type": "code",
   "execution_count": 7,
   "outputs": [
    {
     "name": "stdout",
     "output_type": "stream",
     "text": [
      "This is a global string\n"
     ]
    }
   ],
   "source": [
    "print(name)"
   ],
   "metadata": {
    "collapsed": false,
    "ExecuteTime": {
     "end_time": "2023-10-28T11:08:56.062347700Z",
     "start_time": "2023-10-28T11:08:56.042708100Z"
    }
   },
   "id": "f6209d8c5c45d267"
  },
  {
   "cell_type": "code",
   "execution_count": 8,
   "outputs": [],
   "source": [
    "x = 10\n",
    "def func():\n",
    "    global x \n",
    "    x = 'MODIFIED GLOBAL VARIABLE X TO 100'\n",
    "    "
   ],
   "metadata": {
    "collapsed": false,
    "ExecuteTime": {
     "end_time": "2023-10-28T11:08:57.332269800Z",
     "start_time": "2023-10-28T11:08:57.310752200Z"
    }
   },
   "id": "cf58c66c2e1a2ce3"
  },
  {
   "cell_type": "code",
   "execution_count": 9,
   "outputs": [
    {
     "name": "stdout",
     "output_type": "stream",
     "text": [
      "10\n"
     ]
    }
   ],
   "source": [
    "print(x)"
   ],
   "metadata": {
    "collapsed": false,
    "ExecuteTime": {
     "end_time": "2023-10-28T11:08:58.259224200Z",
     "start_time": "2023-10-28T11:08:58.254630200Z"
    }
   },
   "id": "41bb8d2aea0cfab4"
  },
  {
   "cell_type": "code",
   "execution_count": 10,
   "outputs": [],
   "source": [
    "func()"
   ],
   "metadata": {
    "collapsed": false,
    "ExecuteTime": {
     "end_time": "2023-10-28T11:08:58.912042400Z",
     "start_time": "2023-10-28T11:08:58.901771200Z"
    }
   },
   "id": "759d0e77e4922430"
  },
  {
   "cell_type": "code",
   "execution_count": 11,
   "outputs": [
    {
     "name": "stdout",
     "output_type": "stream",
     "text": [
      "MODIFIED GLOBAL VARIABLE X TO 100\n"
     ]
    }
   ],
   "source": [
    "print(x)"
   ],
   "metadata": {
    "collapsed": false,
    "ExecuteTime": {
     "end_time": "2023-10-28T11:08:59.443035900Z",
     "start_time": "2023-10-28T11:08:59.423652200Z"
    }
   },
   "id": "90475a0848fbe113"
  },
  {
   "cell_type": "code",
   "execution_count": null,
   "outputs": [],
   "source": [],
   "metadata": {
    "collapsed": false
   },
   "id": "48b416d067a97a49"
  }
 ],
 "metadata": {
  "kernelspec": {
   "display_name": "Python 3",
   "language": "python",
   "name": "python3"
  },
  "language_info": {
   "codemirror_mode": {
    "name": "ipython",
    "version": 2
   },
   "file_extension": ".py",
   "mimetype": "text/x-python",
   "name": "python",
   "nbconvert_exporter": "python",
   "pygments_lexer": "ipython2",
   "version": "2.7.6"
  }
 },
 "nbformat": 4,
 "nbformat_minor": 5
}
