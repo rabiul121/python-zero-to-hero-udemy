{
 "cells": [
  {
   "cell_type": "markdown",
   "id": "645238ef",
   "metadata": {},
   "source": [
    "## Python Dictionaries"
   ]
  },
  {
   "cell_type": "code",
   "execution_count": 1,
   "id": "ef5d3782",
   "metadata": {},
   "outputs": [],
   "source": [
    "my_dict = {'key1': 'value1', 'key2': 'value2'}"
   ]
  },
  {
   "cell_type": "code",
   "execution_count": 2,
   "id": "02372c86",
   "metadata": {},
   "outputs": [
    {
     "data": {
      "text/plain": [
       "{'key1': 'value1', 'key2': 'value2'}"
      ]
     },
     "execution_count": 2,
     "metadata": {},
     "output_type": "execute_result"
    }
   ],
   "source": [
    "my_dict"
   ]
  },
  {
   "cell_type": "code",
   "execution_count": 3,
   "id": "8a13d733",
   "metadata": {},
   "outputs": [
    {
     "data": {
      "text/plain": [
       "'value2'"
      ]
     },
     "execution_count": 3,
     "metadata": {},
     "output_type": "execute_result"
    }
   ],
   "source": [
    "my_dict['key2']"
   ]
  },
  {
   "cell_type": "code",
   "execution_count": 5,
   "id": "1c10b589",
   "metadata": {},
   "outputs": [],
   "source": [
    "price_lookup = {'apple': 220, 'orange': 180, 'milk': 80, 'eggs': 70}"
   ]
  },
  {
   "cell_type": "code",
   "execution_count": 6,
   "id": "0d6535d4",
   "metadata": {},
   "outputs": [
    {
     "data": {
      "text/plain": [
       "{'apple': 220, 'orange': 180, 'milk': 80, 'eggs': 70}"
      ]
     },
     "execution_count": 6,
     "metadata": {},
     "output_type": "execute_result"
    }
   ],
   "source": [
    "price_lookup"
   ]
  },
  {
   "cell_type": "code",
   "execution_count": 7,
   "id": "ade861ab",
   "metadata": {},
   "outputs": [
    {
     "data": {
      "text/plain": [
       "220"
      ]
     },
     "execution_count": 7,
     "metadata": {},
     "output_type": "execute_result"
    }
   ],
   "source": [
    "price_lookup['apple']"
   ]
  },
  {
   "cell_type": "code",
   "execution_count": 12,
   "id": "1877813c",
   "metadata": {},
   "outputs": [],
   "source": [
    "d = {'name': 'Robi', 'id': 1702040, 'hobby': ['reading', 'cycling', 'gardening'], 'parents': {'father': {'name': 'Kadam Ali'}, 'mother': {'name': 'Kohinoor Begum'}}}"
   ]
  },
  {
   "cell_type": "code",
   "execution_count": 13,
   "id": "7b24e348",
   "metadata": {},
   "outputs": [
    {
     "data": {
      "text/plain": [
       "{'name': 'Robi',\n",
       " 'id': 1702040,\n",
       " 'hobby': ['reading', 'cycling', 'gardening'],\n",
       " 'parents': {'father': {'name': 'Kadam Ali'},\n",
       "  'mother': {'name': 'Kohinoor Begum'}}}"
      ]
     },
     "execution_count": 13,
     "metadata": {},
     "output_type": "execute_result"
    }
   ],
   "source": [
    "d"
   ]
  },
  {
   "cell_type": "code",
   "execution_count": 14,
   "id": "5e672f99",
   "metadata": {},
   "outputs": [
    {
     "data": {
      "text/plain": [
       "{'name': 'Kadam Ali'}"
      ]
     },
     "execution_count": 14,
     "metadata": {},
     "output_type": "execute_result"
    }
   ],
   "source": [
    "d['parents']['father']"
   ]
  },
  {
   "cell_type": "code",
   "execution_count": 15,
   "id": "41d512fe",
   "metadata": {},
   "outputs": [],
   "source": [
    "e = {'kabir': 50, 'arif': 65}"
   ]
  },
  {
   "cell_type": "code",
   "execution_count": 17,
   "id": "f33a5f28",
   "metadata": {},
   "outputs": [],
   "source": [
    "e['rakib'] = 55\n"
   ]
  },
  {
   "cell_type": "code",
   "execution_count": 18,
   "id": "2021091b",
   "metadata": {},
   "outputs": [
    {
     "data": {
      "text/plain": [
       "{'kabir': 50, 'arif': 65, 'rakib': 55}"
      ]
     },
     "execution_count": 18,
     "metadata": {},
     "output_type": "execute_result"
    }
   ],
   "source": [
    "e"
   ]
  },
  {
   "cell_type": "markdown",
   "id": "2fd7ce8d",
   "metadata": {},
   "source": [
    "### Change/replace value"
   ]
  },
  {
   "cell_type": "code",
   "execution_count": 19,
   "id": "e097c41d",
   "metadata": {},
   "outputs": [],
   "source": [
    "e['kabir'] = 70"
   ]
  },
  {
   "cell_type": "code",
   "execution_count": 20,
   "id": "c94eeb7f",
   "metadata": {},
   "outputs": [
    {
     "data": {
      "text/plain": [
       "{'kabir': 70, 'arif': 65, 'rakib': 55}"
      ]
     },
     "execution_count": 20,
     "metadata": {},
     "output_type": "execute_result"
    }
   ],
   "source": [
    "e"
   ]
  },
  {
   "cell_type": "code",
   "execution_count": 21,
   "id": "2a4f2bd1",
   "metadata": {},
   "outputs": [
    {
     "data": {
      "text/plain": [
       "dict_keys(['kabir', 'arif', 'rakib'])"
      ]
     },
     "execution_count": 21,
     "metadata": {},
     "output_type": "execute_result"
    }
   ],
   "source": [
    "e.keys()"
   ]
  },
  {
   "cell_type": "code",
   "execution_count": 22,
   "id": "f05f7ac3",
   "metadata": {},
   "outputs": [
    {
     "data": {
      "text/plain": [
       "dict_values([70, 65, 55])"
      ]
     },
     "execution_count": 22,
     "metadata": {},
     "output_type": "execute_result"
    }
   ],
   "source": [
    "e.values()"
   ]
  },
  {
   "cell_type": "code",
   "execution_count": 23,
   "id": "43aea082",
   "metadata": {},
   "outputs": [
    {
     "data": {
      "text/plain": [
       "dict_items([('name', 'Robi'), ('id', 1702040), ('hobby', ['reading', 'cycling', 'gardening']), ('parents', {'father': {'name': 'Kadam Ali'}, 'mother': {'name': 'Kohinoor Begum'}})])"
      ]
     },
     "execution_count": 23,
     "metadata": {},
     "output_type": "execute_result"
    }
   ],
   "source": [
    "d.items()"
   ]
  },
  {
   "cell_type": "code",
   "execution_count": 24,
   "id": "61e8f713",
   "metadata": {},
   "outputs": [
    {
     "data": {
      "text/plain": [
       "dict_items([('kabir', 70), ('arif', 65), ('rakib', 55)])"
      ]
     },
     "execution_count": 24,
     "metadata": {},
     "output_type": "execute_result"
    }
   ],
   "source": [
    "e.items()"
   ]
  },
  {
   "cell_type": "code",
   "execution_count": null,
   "id": "47d67754",
   "metadata": {},
   "outputs": [],
   "source": []
  }
 ],
 "metadata": {
  "kernelspec": {
   "display_name": "Python 3 (ipykernel)",
   "language": "python",
   "name": "python3"
  },
  "language_info": {
   "codemirror_mode": {
    "name": "ipython",
    "version": 3
   },
   "file_extension": ".py",
   "mimetype": "text/x-python",
   "name": "python",
   "nbconvert_exporter": "python",
   "pygments_lexer": "ipython3",
   "version": "3.11.6"
  }
 },
 "nbformat": 4,
 "nbformat_minor": 5
}
