{
 "cells": [
  {
   "cell_type": "markdown",
   "id": "fa25d507",
   "metadata": {},
   "source": [
    "### Python Function"
   ]
  },
  {
   "cell_type": "code",
   "execution_count": 2,
   "id": "4a968c69",
   "metadata": {},
   "outputs": [],
   "source": [
    "def say_hello():\n",
    "    print(\"Hello\")\n",
    "    print(\"World\")"
   ]
  },
  {
   "cell_type": "code",
   "execution_count": 3,
   "id": "b1efd962",
   "metadata": {},
   "outputs": [
    {
     "name": "stdout",
     "output_type": "stream",
     "text": [
      "Hello\n",
      "World\n"
     ]
    }
   ],
   "source": [
    "say_hello()"
   ]
  },
  {
   "cell_type": "code",
   "execution_count": 6,
   "id": "0728f3eb",
   "metadata": {},
   "outputs": [],
   "source": [
    "def hello(name='User'):\n",
    "    print(f\"Hello {name}\")\n",
    "    "
   ]
  },
  {
   "cell_type": "code",
   "execution_count": 7,
   "id": "51b55bfc",
   "metadata": {},
   "outputs": [
    {
     "name": "stdout",
     "output_type": "stream",
     "text": [
      "Hello mimi\n"
     ]
    }
   ],
   "source": [
    "hello('mimi')"
   ]
  },
  {
   "cell_type": "code",
   "execution_count": 8,
   "id": "581b57f4",
   "metadata": {},
   "outputs": [
    {
     "name": "stdout",
     "output_type": "stream",
     "text": [
      "Hello User\n"
     ]
    }
   ],
   "source": [
    "hello()"
   ]
  },
  {
   "cell_type": "code",
   "execution_count": 9,
   "id": "a92de859",
   "metadata": {},
   "outputs": [],
   "source": [
    "def add(num1, num2):\n",
    "    return num1 + num2\n",
    "    "
   ]
  },
  {
   "cell_type": "code",
   "execution_count": 10,
   "id": "5a1cc8eb",
   "metadata": {},
   "outputs": [
    {
     "data": {
      "text/plain": [
       "40"
      ]
     },
     "execution_count": 10,
     "metadata": {},
     "output_type": "execute_result"
    }
   ],
   "source": [
    "add(10, 30)"
   ]
  },
  {
   "cell_type": "code",
   "execution_count": 11,
   "id": "a8fdc3db",
   "metadata": {},
   "outputs": [],
   "source": [
    "result = add(500, 545)"
   ]
  },
  {
   "cell_type": "code",
   "execution_count": 12,
   "id": "baafd630",
   "metadata": {},
   "outputs": [
    {
     "data": {
      "text/plain": [
       "1045"
      ]
     },
     "execution_count": 12,
     "metadata": {},
     "output_type": "execute_result"
    }
   ],
   "source": [
    "result"
   ]
  },
  {
   "cell_type": "code",
   "execution_count": 14,
   "id": "9e2cd004",
   "metadata": {},
   "outputs": [],
   "source": [
    "import random"
   ]
  },
  {
   "cell_type": "code",
   "execution_count": 49,
   "id": "50f2865d",
   "metadata": {},
   "outputs": [],
   "source": [
    "lst = [random.randint(1, 100) for _ in range(15)]"
   ]
  },
  {
   "cell_type": "code",
   "execution_count": 50,
   "id": "4f2bc971",
   "metadata": {},
   "outputs": [],
   "source": [
    "def check_even_odd(lst):\n",
    "    for num in lst:\n",
    "        if num % 2 == 0:\n",
    "            return f\"{num} is even.\"\n",
    "        else:\n",
    "            return f\"{num} is odd.\"\n"
   ]
  },
  {
   "cell_type": "code",
   "execution_count": 51,
   "id": "f5d8bbe8",
   "metadata": {},
   "outputs": [
    {
     "data": {
      "text/plain": [
       "'15 is odd.'"
      ]
     },
     "execution_count": 51,
     "metadata": {},
     "output_type": "execute_result"
    }
   ],
   "source": [
    "check_even_odd(lst)"
   ]
  },
  {
   "cell_type": "code",
   "execution_count": 52,
   "id": "f897c468",
   "metadata": {},
   "outputs": [
    {
     "data": {
      "text/plain": [
       "[15, 52, 81, 85, 98, 30, 34, 68, 63, 24, 85, 56, 76, 90, 85]"
      ]
     },
     "execution_count": 52,
     "metadata": {},
     "output_type": "execute_result"
    }
   ],
   "source": [
    "lst"
   ]
  },
  {
   "cell_type": "code",
   "execution_count": 55,
   "id": "87a4234f",
   "metadata": {},
   "outputs": [
    {
     "name": "stdout",
     "output_type": "stream",
     "text": [
      "15 52 81 85 98 30 34 68 63 24 85 56 76 90 85 "
     ]
    }
   ],
   "source": [
    "for i in lst:\n",
    "    print(i, end=\" \")"
   ]
  },
  {
   "cell_type": "code",
   "execution_count": 60,
   "id": "18d7bbee",
   "metadata": {},
   "outputs": [
    {
     "name": "stdout",
     "output_type": "stream",
     "text": [
      "15 is odd\n",
      "52  is even\n",
      "81 is odd\n",
      "85 is odd\n",
      "98  is even\n",
      "30  is even\n",
      "34  is even\n",
      "68  is even\n",
      "63 is odd\n",
      "24  is even\n",
      "85 is odd\n",
      "56  is even\n",
      "76  is even\n",
      "90  is even\n",
      "85 is odd\n"
     ]
    }
   ],
   "source": [
    "for num in lst:\n",
    "    if num % 2 == 0:\n",
    "        print(f\"{num}  is even\")\n",
    "    else:\n",
    "        print(f\"{num} is odd\")"
   ]
  },
  {
   "cell_type": "code",
   "execution_count": 67,
   "id": "bc03c01f",
   "metadata": {},
   "outputs": [],
   "source": [
    "def check_even_list(lst):\n",
    "    for num in lst:\n",
    "        if num % 2 == 0:\n",
    "            return True\n",
    "        else:\n",
    "            pass #IMPORTANT, don't return False here.\n",
    "    return False"
   ]
  },
  {
   "cell_type": "code",
   "execution_count": 68,
   "id": "99d96cba",
   "metadata": {},
   "outputs": [],
   "source": [
    "lst = [random.randint(1, 500) for _ in range(20)]"
   ]
  },
  {
   "cell_type": "code",
   "execution_count": 71,
   "id": "2e9b222f",
   "metadata": {},
   "outputs": [
    {
     "name": "stdout",
     "output_type": "stream",
     "text": [
      "[307, 383, 42, 474, 300, 227, 62, 151, 26, 104, 359, 119, 353, 33, 84, 72, 348, 378, 277, 394] "
     ]
    }
   ],
   "source": [
    "print(lst, end=\" \")"
   ]
  },
  {
   "cell_type": "code",
   "execution_count": 72,
   "id": "374e9d23",
   "metadata": {},
   "outputs": [
    {
     "data": {
      "text/plain": [
       "True"
      ]
     },
     "execution_count": 72,
     "metadata": {},
     "output_type": "execute_result"
    }
   ],
   "source": [
    "check_even_list(lst)"
   ]
  },
  {
   "cell_type": "code",
   "execution_count": null,
   "id": "63089c03",
   "metadata": {},
   "outputs": [],
   "source": []
  }
 ],
 "metadata": {
  "kernelspec": {
   "display_name": "Python 3 (ipykernel)",
   "language": "python",
   "name": "python3"
  },
  "language_info": {
   "codemirror_mode": {
    "name": "ipython",
    "version": 3
   },
   "file_extension": ".py",
   "mimetype": "text/x-python",
   "name": "python",
   "nbconvert_exporter": "python",
   "pygments_lexer": "ipython3",
   "version": "3.11.5"
  }
 },
 "nbformat": 4,
 "nbformat_minor": 5
}
