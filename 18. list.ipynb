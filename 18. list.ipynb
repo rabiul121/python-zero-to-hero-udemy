{
 "cells": [
  {
   "cell_type": "markdown",
   "id": "cd85e452",
   "metadata": {},
   "source": [
    "## 18. List in python"
   ]
  },
  {
   "cell_type": "code",
   "execution_count": 1,
   "id": "b501999b",
   "metadata": {},
   "outputs": [],
   "source": [
    "my_list = [1,2,3]"
   ]
  },
  {
   "cell_type": "markdown",
   "id": "8221857c",
   "metadata": {},
   "source": [
    "### List can be reassigned"
   ]
  },
  {
   "cell_type": "code",
   "execution_count": 9,
   "id": "238535b7",
   "metadata": {},
   "outputs": [],
   "source": [
    "my_list = [\"robi\", 1702040, 7610, 2.97]"
   ]
  },
  {
   "cell_type": "code",
   "execution_count": 11,
   "id": "ecddc793",
   "metadata": {},
   "outputs": [
    {
     "data": {
      "text/plain": [
       "['robi', 1702040, 7610, 2.97]"
      ]
     },
     "execution_count": 11,
     "metadata": {},
     "output_type": "execute_result"
    }
   ],
   "source": [
    "my_list"
   ]
  },
  {
   "cell_type": "code",
   "execution_count": 12,
   "id": "b404c82e",
   "metadata": {},
   "outputs": [
    {
     "data": {
      "text/plain": [
       "4"
      ]
     },
     "execution_count": 12,
     "metadata": {},
     "output_type": "execute_result"
    }
   ],
   "source": [
    "len(my_list)"
   ]
  },
  {
   "cell_type": "code",
   "execution_count": 13,
   "id": "833ce835",
   "metadata": {},
   "outputs": [],
   "source": [
    "new_list = ['one', 'two', 'three']"
   ]
  },
  {
   "cell_type": "code",
   "execution_count": 14,
   "id": "9c616ae2",
   "metadata": {},
   "outputs": [
    {
     "data": {
      "text/plain": [
       "'one'"
      ]
     },
     "execution_count": 14,
     "metadata": {},
     "output_type": "execute_result"
    }
   ],
   "source": [
    "new_list[0]"
   ]
  },
  {
   "cell_type": "code",
   "execution_count": 16,
   "id": "c2c9fa91",
   "metadata": {},
   "outputs": [
    {
     "data": {
      "text/plain": [
       "['one', 'two']"
      ]
     },
     "execution_count": 16,
     "metadata": {},
     "output_type": "execute_result"
    }
   ],
   "source": [
    "new_list[:2]"
   ]
  },
  {
   "cell_type": "code",
   "execution_count": 17,
   "id": "8e150033",
   "metadata": {},
   "outputs": [],
   "source": [
    "another_list = ['four', 'five', 'six']"
   ]
  },
  {
   "cell_type": "code",
   "execution_count": 18,
   "id": "be6cd5ea",
   "metadata": {},
   "outputs": [
    {
     "data": {
      "text/plain": [
       "['robi', 1702040, 7610, 2.97, 'four', 'five', 'six']"
      ]
     },
     "execution_count": 18,
     "metadata": {},
     "output_type": "execute_result"
    }
   ],
   "source": [
    "my_list + another_list"
   ]
  },
  {
   "cell_type": "code",
   "execution_count": 19,
   "id": "15b7c914",
   "metadata": {},
   "outputs": [],
   "source": [
    "new_list[0] = 'ONE MODIFIED'"
   ]
  },
  {
   "cell_type": "code",
   "execution_count": 20,
   "id": "29b75a7d",
   "metadata": {},
   "outputs": [
    {
     "data": {
      "text/plain": [
       "['ONE MODIFIED', 'two', 'three']"
      ]
     },
     "execution_count": 20,
     "metadata": {},
     "output_type": "execute_result"
    }
   ],
   "source": [
    "new_list"
   ]
  },
  {
   "cell_type": "code",
   "execution_count": 21,
   "id": "089d1818",
   "metadata": {},
   "outputs": [],
   "source": [
    "new_list.append('TEN')"
   ]
  },
  {
   "cell_type": "code",
   "execution_count": 22,
   "id": "8d9d19fb",
   "metadata": {},
   "outputs": [
    {
     "data": {
      "text/plain": [
       "['ONE MODIFIED', 'two', 'three', 'TEN']"
      ]
     },
     "execution_count": 22,
     "metadata": {},
     "output_type": "execute_result"
    }
   ],
   "source": [
    "new_list"
   ]
  },
  {
   "cell_type": "code",
   "execution_count": 24,
   "id": "eccd144c",
   "metadata": {},
   "outputs": [
    {
     "data": {
      "text/plain": [
       "'TEN'"
      ]
     },
     "execution_count": 24,
     "metadata": {},
     "output_type": "execute_result"
    }
   ],
   "source": [
    "new_list.pop()"
   ]
  },
  {
   "cell_type": "code",
   "execution_count": 25,
   "id": "475b4c12",
   "metadata": {},
   "outputs": [
    {
     "data": {
      "text/plain": [
       "['ONE MODIFIED', 'two', 'three']"
      ]
     },
     "execution_count": 25,
     "metadata": {},
     "output_type": "execute_result"
    }
   ],
   "source": [
    "new_list"
   ]
  },
  {
   "cell_type": "code",
   "execution_count": 26,
   "id": "d5be438f",
   "metadata": {},
   "outputs": [],
   "source": [
    "popped_item = another_list.pop()"
   ]
  },
  {
   "cell_type": "code",
   "execution_count": 27,
   "id": "9124e08a",
   "metadata": {},
   "outputs": [
    {
     "data": {
      "text/plain": [
       "'six'"
      ]
     },
     "execution_count": 27,
     "metadata": {},
     "output_type": "execute_result"
    }
   ],
   "source": [
    "popped_item"
   ]
  },
  {
   "cell_type": "code",
   "execution_count": 28,
   "id": "177cc769",
   "metadata": {},
   "outputs": [
    {
     "data": {
      "text/plain": [
       "['four', 'five']"
      ]
     },
     "execution_count": 28,
     "metadata": {},
     "output_type": "execute_result"
    }
   ],
   "source": [
    "another_list"
   ]
  },
  {
   "cell_type": "code",
   "execution_count": 29,
   "id": "2fa53cfd",
   "metadata": {},
   "outputs": [
    {
     "data": {
      "text/plain": [
       "['ONE MODIFIED', 'two', 'three']"
      ]
     },
     "execution_count": 29,
     "metadata": {},
     "output_type": "execute_result"
    }
   ],
   "source": [
    "new_list"
   ]
  },
  {
   "cell_type": "code",
   "execution_count": 30,
   "id": "512b1914",
   "metadata": {},
   "outputs": [
    {
     "data": {
      "text/plain": [
       "'two'"
      ]
     },
     "execution_count": 30,
     "metadata": {},
     "output_type": "execute_result"
    }
   ],
   "source": [
    "new_list.pop(1)"
   ]
  },
  {
   "cell_type": "code",
   "execution_count": 31,
   "id": "7cd3b437",
   "metadata": {},
   "outputs": [
    {
     "data": {
      "text/plain": [
       "['ONE MODIFIED', 'three']"
      ]
     },
     "execution_count": 31,
     "metadata": {},
     "output_type": "execute_result"
    }
   ],
   "source": [
    "new_list"
   ]
  },
  {
   "cell_type": "code",
   "execution_count": 39,
   "id": "bf9149e5",
   "metadata": {},
   "outputs": [],
   "source": [
    "name_list = ['y', 'a', 'b', 'c', 'd', 'x', 'w', 'z']\n",
    "num_list = [8, 11, 20, 99, 40, 1, 2, 4, 5, 6, 58]"
   ]
  },
  {
   "cell_type": "code",
   "execution_count": 40,
   "id": "2e329fd7",
   "metadata": {},
   "outputs": [],
   "source": [
    "num_list.sort()"
   ]
  },
  {
   "cell_type": "code",
   "execution_count": 41,
   "id": "0cad681f",
   "metadata": {},
   "outputs": [
    {
     "data": {
      "text/plain": [
       "[1, 2, 4, 5, 6, 8, 11, 20, 40, 58, 99]"
      ]
     },
     "execution_count": 41,
     "metadata": {},
     "output_type": "execute_result"
    }
   ],
   "source": [
    "num_list"
   ]
  },
  {
   "cell_type": "code",
   "execution_count": 42,
   "id": "48e18582",
   "metadata": {},
   "outputs": [],
   "source": [
    "name_list.sort()"
   ]
  },
  {
   "cell_type": "code",
   "execution_count": 43,
   "id": "74603b0e",
   "metadata": {},
   "outputs": [
    {
     "data": {
      "text/plain": [
       "['a', 'b', 'c', 'd', 'w', 'x', 'y', 'z']"
      ]
     },
     "execution_count": 43,
     "metadata": {},
     "output_type": "execute_result"
    }
   ],
   "source": [
    "name_list"
   ]
  },
  {
   "cell_type": "code",
   "execution_count": null,
   "id": "78de31b1",
   "metadata": {},
   "outputs": [],
   "source": []
  }
 ],
 "metadata": {
  "kernelspec": {
   "display_name": "Python 3 (ipykernel)",
   "language": "python",
   "name": "python3"
  },
  "language_info": {
   "codemirror_mode": {
    "name": "ipython",
    "version": 3
   },
   "file_extension": ".py",
   "mimetype": "text/x-python",
   "name": "python",
   "nbconvert_exporter": "python",
   "pygments_lexer": "ipython3",
   "version": "3.11.5"
  }
 },
 "nbformat": 4,
 "nbformat_minor": 5
}
