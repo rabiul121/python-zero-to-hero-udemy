{
 "cells": [
  {
   "cell_type": "code",
   "execution_count": 1,
   "id": "f45540bf",
   "metadata": {},
   "outputs": [],
   "source": [
    "mylist = [1,2,3,4]"
   ]
  },
  {
   "cell_type": "code",
   "execution_count": 2,
   "id": "16c5c680",
   "metadata": {},
   "outputs": [
    {
     "name": "stdout",
     "output_type": "stream",
     "text": [
      "0\n",
      "1\n",
      "2\n",
      "3\n",
      "4\n",
      "5\n",
      "6\n",
      "7\n",
      "8\n",
      "9\n"
     ]
    }
   ],
   "source": [
    "for num in range(10):\n",
    "    print(num)"
   ]
  },
  {
   "cell_type": "code",
   "execution_count": 3,
   "id": "08211949",
   "metadata": {},
   "outputs": [
    {
     "name": "stdout",
     "output_type": "stream",
     "text": [
      "0\n",
      "2\n",
      "4\n",
      "6\n",
      "8\n",
      "10\n"
     ]
    }
   ],
   "source": [
    "for num in range(0,11,2):\n",
    "    print(num)"
   ]
  },
  {
   "cell_type": "code",
   "execution_count": 4,
   "id": "19242bff",
   "metadata": {},
   "outputs": [
    {
     "data": {
      "text/plain": [
       "[0, 1, 2, 3, 4, 5, 6, 7, 8, 9]"
      ]
     },
     "execution_count": 4,
     "metadata": {},
     "output_type": "execute_result"
    }
   ],
   "source": [
    "list(range(0,10))"
   ]
  },
  {
   "cell_type": "markdown",
   "id": "b97947dd",
   "metadata": {},
   "source": [
    "### Enumerate"
   ]
  },
  {
   "cell_type": "code",
   "execution_count": 5,
   "id": "75dc1f64",
   "metadata": {},
   "outputs": [
    {
     "name": "stdout",
     "output_type": "stream",
     "text": [
      "At index 0 the letter is a\n",
      "At index 1 the letter is b\n",
      "At index 2 the letter is c\n",
      "At index 3 the letter is f\n",
      "At index 4 the letter is d\n",
      "At index 5 the letter is h\n"
     ]
    }
   ],
   "source": [
    "index_count = 0\n",
    "for letter in 'abcfdh':\n",
    "    print(f\"At index {index_count} the letter is {letter}\")\n",
    "    index_count += 1"
   ]
  },
  {
   "cell_type": "code",
   "execution_count": 7,
   "id": "3c2d70f2",
   "metadata": {},
   "outputs": [
    {
     "name": "stdout",
     "output_type": "stream",
     "text": [
      "(0, 'I')\n",
      "(1, ' ')\n",
      "(2, 'l')\n",
      "(3, 'o')\n",
      "(4, 'v')\n",
      "(5, 'e')\n",
      "(6, ' ')\n",
      "(7, 'y')\n",
      "(8, 'o')\n",
      "(9, 'u')\n",
      "(10, ' ')\n",
      "(11, '❤')\n",
      "(12, '️')\n"
     ]
    }
   ],
   "source": [
    "words = 'I love you ❤️'\n",
    "for item in enumerate(words):\n",
    "    print(item)"
   ]
  },
  {
   "cell_type": "markdown",
   "id": "c73b8065",
   "metadata": {},
   "source": [
    "### Zip\n",
    "\n"
   ]
  },
  {
   "cell_type": "code",
   "execution_count": 8,
   "id": "096e3695",
   "metadata": {},
   "outputs": [],
   "source": [
    "list1 = [1, 2, 3, 4]\n",
    "list2 = ['a', 'b', 'c', 'd']"
   ]
  },
  {
   "cell_type": "code",
   "execution_count": 10,
   "id": "974062a1",
   "metadata": {},
   "outputs": [
    {
     "name": "stdout",
     "output_type": "stream",
     "text": [
      "(1, 'a')\n",
      "(2, 'b')\n",
      "(3, 'c')\n",
      "(4, 'd')\n"
     ]
    }
   ],
   "source": [
    "for item in zip(list1, list2):\n",
    "    print(item)"
   ]
  },
  {
   "cell_type": "code",
   "execution_count": 11,
   "id": "4f19c49c",
   "metadata": {},
   "outputs": [
    {
     "data": {
      "text/plain": [
       "[(1, 'a'), (2, 'b'), (3, 'c'), (4, 'd')]"
      ]
     },
     "execution_count": 11,
     "metadata": {},
     "output_type": "execute_result"
    }
   ],
   "source": [
    "list(zip(list1, list2))"
   ]
  },
  {
   "cell_type": "code",
   "execution_count": 12,
   "id": "7d31f0ea",
   "metadata": {},
   "outputs": [
    {
     "data": {
      "text/plain": [
       "True"
      ]
     },
     "execution_count": 12,
     "metadata": {},
     "output_type": "execute_result"
    }
   ],
   "source": [
    "'robi' in {'name': 'robi'}.values()"
   ]
  },
  {
   "cell_type": "code",
   "execution_count": 13,
   "id": "e19385e6",
   "metadata": {},
   "outputs": [],
   "source": [
    "mylist = [1,2,55,48,102,56]"
   ]
  },
  {
   "cell_type": "code",
   "execution_count": 14,
   "id": "11d7d6ab",
   "metadata": {},
   "outputs": [
    {
     "data": {
      "text/plain": [
       "1"
      ]
     },
     "execution_count": 14,
     "metadata": {},
     "output_type": "execute_result"
    }
   ],
   "source": [
    "min(mylist)"
   ]
  },
  {
   "cell_type": "code",
   "execution_count": 15,
   "id": "bffad0de",
   "metadata": {},
   "outputs": [
    {
     "data": {
      "text/plain": [
       "102"
      ]
     },
     "execution_count": 15,
     "metadata": {},
     "output_type": "execute_result"
    }
   ],
   "source": [
    "max(mylist)"
   ]
  },
  {
   "cell_type": "code",
   "execution_count": 19,
   "id": "f57ddc7c",
   "metadata": {},
   "outputs": [
    {
     "data": {
      "text/plain": [
       "[51, 69, 90, 64, 85, 59, 88, 70, 75, 65]"
      ]
     },
     "execution_count": 19,
     "metadata": {},
     "output_type": "execute_result"
    }
   ],
   "source": [
    "import random\n",
    "my_list = []\n",
    "for i in range(10):\n",
    "    my_list.append(random.randint(50,90))\n",
    "    \n",
    "my_list\n",
    "    "
   ]
  },
  {
   "cell_type": "code",
   "execution_count": 20,
   "id": "a198bf05",
   "metadata": {},
   "outputs": [],
   "source": [
    "list3 = [51, 69, 90, 64, 85, 59, 88, 70, 75, 65]"
   ]
  },
  {
   "cell_type": "code",
   "execution_count": 21,
   "id": "9db25828",
   "metadata": {},
   "outputs": [],
   "source": [
    "random.shuffle(list3)"
   ]
  },
  {
   "cell_type": "code",
   "execution_count": 22,
   "id": "6b61f598",
   "metadata": {},
   "outputs": [
    {
     "data": {
      "text/plain": [
       "[75, 69, 64, 88, 70, 85, 51, 59, 90, 65]"
      ]
     },
     "execution_count": 22,
     "metadata": {},
     "output_type": "execute_result"
    }
   ],
   "source": [
    "list3"
   ]
  },
  {
   "cell_type": "code",
   "execution_count": 27,
   "id": "d0127e4b",
   "metadata": {},
   "outputs": [],
   "source": [
    "mystring = \"pneumonia\""
   ]
  },
  {
   "cell_type": "code",
   "execution_count": 28,
   "id": "e0ad92ca",
   "metadata": {},
   "outputs": [],
   "source": [
    "my_list = [letter for letter in mystring]"
   ]
  },
  {
   "cell_type": "code",
   "execution_count": 29,
   "id": "ec9f014c",
   "metadata": {},
   "outputs": [
    {
     "data": {
      "text/plain": [
       "['p', 'n', 'e', 'u', 'm', 'o', 'n', 'i', 'a']"
      ]
     },
     "execution_count": 29,
     "metadata": {},
     "output_type": "execute_result"
    }
   ],
   "source": [
    "my_list\n"
   ]
  },
  {
   "cell_type": "code",
   "execution_count": 30,
   "id": "0ad1b901",
   "metadata": {},
   "outputs": [
    {
     "data": {
      "text/plain": [
       "['p', 'n', 'e', 'u', 'm', 'o', 'n', 'i', 'a']"
      ]
     },
     "execution_count": 30,
     "metadata": {},
     "output_type": "execute_result"
    }
   ],
   "source": [
    "my_list"
   ]
  },
  {
   "cell_type": "code",
   "execution_count": 31,
   "id": "4767d4bd",
   "metadata": {},
   "outputs": [],
   "source": [
    "my_num_list = [num**2 for num in range(1, 10)]"
   ]
  },
  {
   "cell_type": "code",
   "execution_count": 32,
   "id": "68da49e0",
   "metadata": {},
   "outputs": [
    {
     "data": {
      "text/plain": [
       "[1, 4, 9, 16, 25, 36, 49, 64, 81]"
      ]
     },
     "execution_count": 32,
     "metadata": {},
     "output_type": "execute_result"
    }
   ],
   "source": [
    "my_num_list"
   ]
  },
  {
   "cell_type": "code",
   "execution_count": 33,
   "id": "b79c5666",
   "metadata": {},
   "outputs": [],
   "source": [
    "even_nuumber_range = [num**2 for num in range(1,11) if num % 2 == 0]"
   ]
  },
  {
   "cell_type": "code",
   "execution_count": 34,
   "id": "a4fe3dc8",
   "metadata": {},
   "outputs": [
    {
     "data": {
      "text/plain": [
       "[4, 16, 36, 64, 100]"
      ]
     },
     "execution_count": 34,
     "metadata": {},
     "output_type": "execute_result"
    }
   ],
   "source": [
    "even_nuumber_range"
   ]
  },
  {
   "cell_type": "code",
   "execution_count": 38,
   "id": "9213007e",
   "metadata": {},
   "outputs": [],
   "source": [
    "celcius = [0,10,20,30.5]\n"
   ]
  },
  {
   "cell_type": "code",
   "execution_count": 39,
   "id": "f410ff3a",
   "metadata": {},
   "outputs": [],
   "source": [
    "fahrenheit = [(9/5)*temp + 32 for temp in celcius]"
   ]
  },
  {
   "cell_type": "code",
   "execution_count": 40,
   "id": "8e3c4ad7",
   "metadata": {},
   "outputs": [
    {
     "data": {
      "text/plain": [
       "[32.0, 50.0, 68.0, 86.9]"
      ]
     },
     "execution_count": 40,
     "metadata": {},
     "output_type": "execute_result"
    }
   ],
   "source": [
    "fahrenheit"
   ]
  },
  {
   "cell_type": "code",
   "execution_count": 41,
   "id": "00f6e576",
   "metadata": {},
   "outputs": [],
   "source": [
    "results = [x if x%2 == 0 else 'ODD' for x in range(0,11)]"
   ]
  },
  {
   "cell_type": "code",
   "execution_count": 42,
   "id": "62d2bbdd",
   "metadata": {},
   "outputs": [
    {
     "data": {
      "text/plain": [
       "[0, 'ODD', 2, 'ODD', 4, 'ODD', 6, 'ODD', 8, 'ODD', 10]"
      ]
     },
     "execution_count": 42,
     "metadata": {},
     "output_type": "execute_result"
    }
   ],
   "source": [
    "results"
   ]
  },
  {
   "cell_type": "code",
   "execution_count": null,
   "id": "a41f00b4",
   "metadata": {},
   "outputs": [],
   "source": []
  }
 ],
 "metadata": {
  "kernelspec": {
   "display_name": "Python 3 (ipykernel)",
   "language": "python",
   "name": "python3"
  },
  "language_info": {
   "codemirror_mode": {
    "name": "ipython",
    "version": 3
   },
   "file_extension": ".py",
   "mimetype": "text/x-python",
   "name": "python",
   "nbconvert_exporter": "python",
   "pygments_lexer": "ipython3",
   "version": "3.11.5"
  }
 },
 "nbformat": 4,
 "nbformat_minor": 5
}
