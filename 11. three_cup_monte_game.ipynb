{
 "cells": [
  {
   "cell_type": "code",
   "execution_count": 20,
   "id": "d60c8ef1",
   "metadata": {},
   "outputs": [],
   "source": [
    "from random import shuffle"
   ]
  },
  {
   "cell_type": "code",
   "execution_count": 21,
   "id": "2448568b",
   "metadata": {},
   "outputs": [],
   "source": [
    "def suffle_list(mylist):\n",
    "    shuffle(mylist)\n",
    "    return mylist"
   ]
  },
  {
   "cell_type": "code",
   "execution_count": 22,
   "id": "7c1e11da",
   "metadata": {},
   "outputs": [],
   "source": [
    "def player_guess():\n",
    "    guess = ''\n",
    "    while guess not in ['0', '1', '2']:\n",
    "        guess = input(\"Pick a number: 0, 1 or 2: \")\n",
    "        \n",
    "    return int(guess)\n",
    "    "
   ]
  },
  {
   "cell_type": "code",
   "execution_count": 23,
   "id": "a73c2a9e",
   "metadata": {},
   "outputs": [],
   "source": [
    "def check_guess(my_list, guess):\n",
    "    if my_list[guess] == 'O':\n",
    "        print(\"Correct!!\")\n",
    "    else:\n",
    "        print(\"Wrong!!\")\n",
    "        print(my_list)"
   ]
  },
  {
   "cell_type": "code",
   "execution_count": 33,
   "id": "b4c0bd60",
   "metadata": {},
   "outputs": [
    {
     "name": "stdout",
     "output_type": "stream",
     "text": [
      "Pick a number: 0, 1 or 2: 1\n",
      "Wrong!!\n",
      "['O', ' ', '']\n"
     ]
    }
   ],
   "source": [
    "# CREATE LIST\n",
    "mylist = [' ', 'O', '']\n",
    "\n",
    "# SHUFFLE LIST\n",
    "shuffle(mylist)\n",
    "\n",
    "# PLAYER GUESS\n",
    "guess = player_guess()\n",
    "\n",
    "# CHECK GUESS\n",
    "check_guess(mylist, guess)"
   ]
  },
  {
   "cell_type": "code",
   "execution_count": null,
   "id": "7b92f71f",
   "metadata": {},
   "outputs": [],
   "source": []
  }
 ],
 "metadata": {
  "kernelspec": {
   "display_name": "Python 3 (ipykernel)",
   "language": "python",
   "name": "python3"
  },
  "language_info": {
   "codemirror_mode": {
    "name": "ipython",
    "version": 3
   },
   "file_extension": ".py",
   "mimetype": "text/x-python",
   "name": "python",
   "nbconvert_exporter": "python",
   "pygments_lexer": "ipython3",
   "version": "3.11.5"
  }
 },
 "nbformat": 4,
 "nbformat_minor": 5
}
