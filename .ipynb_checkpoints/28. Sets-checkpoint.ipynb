{
 "cells": [
  {
   "cell_type": "markdown",
   "id": "d4a1a016",
   "metadata": {},
   "source": [
    "## Python Sets\n",
    "\n",
    "Unordered list of unique items"
   ]
  },
  {
   "cell_type": "code",
   "execution_count": 2,
   "id": "14d992b8",
   "metadata": {},
   "outputs": [],
   "source": [
    "my_sets = set()"
   ]
  },
  {
   "cell_type": "code",
   "execution_count": 3,
   "id": "8fd5d0e3",
   "metadata": {},
   "outputs": [
    {
     "data": {
      "text/plain": [
       "set()"
      ]
     },
     "execution_count": 3,
     "metadata": {},
     "output_type": "execute_result"
    }
   ],
   "source": [
    "my_sets"
   ]
  },
  {
   "cell_type": "code",
   "execution_count": 4,
   "id": "ce664ce7",
   "metadata": {},
   "outputs": [],
   "source": [
    "my_sets.add(1)"
   ]
  },
  {
   "cell_type": "code",
   "execution_count": 5,
   "id": "63a0f6ee",
   "metadata": {},
   "outputs": [
    {
     "data": {
      "text/plain": [
       "{1}"
      ]
     },
     "execution_count": 5,
     "metadata": {},
     "output_type": "execute_result"
    }
   ],
   "source": [
    "my_sets"
   ]
  },
  {
   "cell_type": "code",
   "execution_count": 6,
   "id": "478417d1",
   "metadata": {},
   "outputs": [],
   "source": [
    "my_sets.add(1)"
   ]
  },
  {
   "cell_type": "code",
   "execution_count": 7,
   "id": "6ee8b99f",
   "metadata": {},
   "outputs": [
    {
     "data": {
      "text/plain": [
       "{1}"
      ]
     },
     "execution_count": 7,
     "metadata": {},
     "output_type": "execute_result"
    }
   ],
   "source": [
    "my_sets"
   ]
  },
  {
   "cell_type": "code",
   "execution_count": 9,
   "id": "9447fa60",
   "metadata": {},
   "outputs": [],
   "source": [
    "my_sets.add(2)"
   ]
  },
  {
   "cell_type": "code",
   "execution_count": 10,
   "id": "6241895e",
   "metadata": {},
   "outputs": [
    {
     "data": {
      "text/plain": [
       "{1, 2}"
      ]
     },
     "execution_count": 10,
     "metadata": {},
     "output_type": "execute_result"
    }
   ],
   "source": [
    "my_sets"
   ]
  },
  {
   "cell_type": "code",
   "execution_count": 11,
   "id": "5f170fa5",
   "metadata": {},
   "outputs": [],
   "source": [
    "my_list = [1,1,1,2,3,4,5,5,1,2,3,8,7,0,9,0,1,2,0,1,1,3]"
   ]
  },
  {
   "cell_type": "code",
   "execution_count": 12,
   "id": "ebfb8612",
   "metadata": {},
   "outputs": [],
   "source": [
    "my_set = set(my_list)"
   ]
  },
  {
   "cell_type": "code",
   "execution_count": 13,
   "id": "365f4986",
   "metadata": {},
   "outputs": [
    {
     "data": {
      "text/plain": [
       "{0, 1, 2, 3, 4, 5, 7, 8, 9}"
      ]
     },
     "execution_count": 13,
     "metadata": {},
     "output_type": "execute_result"
    }
   ],
   "source": [
    "my_set"
   ]
  },
  {
   "cell_type": "code",
   "execution_count": null,
   "id": "d7ed64d5",
   "metadata": {},
   "outputs": [],
   "source": []
  }
 ],
 "metadata": {
  "kernelspec": {
   "display_name": "Python 3 (ipykernel)",
   "language": "python",
   "name": "python3"
  },
  "language_info": {
   "codemirror_mode": {
    "name": "ipython",
    "version": 3
   },
   "file_extension": ".py",
   "mimetype": "text/x-python",
   "name": "python",
   "nbconvert_exporter": "python",
   "pygments_lexer": "ipython3",
   "version": "3.11.5"
  }
 },
 "nbformat": 4,
 "nbformat_minor": 5
}
