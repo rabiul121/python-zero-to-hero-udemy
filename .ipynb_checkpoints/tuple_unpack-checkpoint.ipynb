{
 "cells": [
  {
   "cell_type": "code",
   "execution_count": 1,
   "id": "727ca5da",
   "metadata": {},
   "outputs": [],
   "source": [
    "stock_price = [('APPLE', 200), ('GOOGLE', 500), ('MSTF', 450)]"
   ]
  },
  {
   "cell_type": "code",
   "execution_count": 2,
   "id": "40e58084",
   "metadata": {},
   "outputs": [
    {
     "name": "stdout",
     "output_type": "stream",
     "text": [
      "('APPLE', 200)\n",
      "('GOOGLE', 500)\n",
      "('MSTF', 450)\n"
     ]
    }
   ],
   "source": [
    "for item in stock_price:\n",
    "    print(item)"
   ]
  },
  {
   "cell_type": "code",
   "execution_count": 3,
   "id": "0985bbc9",
   "metadata": {},
   "outputs": [
    {
     "name": "stdout",
     "output_type": "stream",
     "text": [
      "220.0\n",
      "550.0\n",
      "495.0\n"
     ]
    }
   ],
   "source": [
    "for ticker, price in stock_price:\n",
    "    print(price + 0.1 * price)"
   ]
  },
  {
   "cell_type": "code",
   "execution_count": 5,
   "id": "249633c5",
   "metadata": {},
   "outputs": [],
   "source": [
    "work_hours = [('Robi', 520), ('Raju', 584), ('Rakib', 850)]"
   ]
  },
  {
   "cell_type": "code",
   "execution_count": 6,
   "id": "babd8eb6",
   "metadata": {},
   "outputs": [],
   "source": [
    "def employee_of_month(work_hour):\n",
    "    max_work_hour = 0\n",
    "    employee_of_month = ''\n",
    "    for employee, hour in work_hour:\n",
    "        if hour > max_work_hour:\n",
    "            max_work_hour = hour\n",
    "            employee_of_month = employee\n",
    "        else:\n",
    "            pass\n",
    "        \n",
    "    return (employee_of_month, max_work_hour)"
   ]
  },
  {
   "cell_type": "code",
   "execution_count": 7,
   "id": "d5f8522c",
   "metadata": {},
   "outputs": [
    {
     "data": {
      "text/plain": [
       "('Rakib', 850)"
      ]
     },
     "execution_count": 7,
     "metadata": {},
     "output_type": "execute_result"
    }
   ],
   "source": [
    "employee_of_month(work_hours)"
   ]
  },
  {
   "cell_type": "code",
   "execution_count": null,
   "id": "759cd63b",
   "metadata": {},
   "outputs": [],
   "source": []
  }
 ],
 "metadata": {
  "kernelspec": {
   "display_name": "Python 3 (ipykernel)",
   "language": "python",
   "name": "python3"
  },
  "language_info": {
   "codemirror_mode": {
    "name": "ipython",
    "version": 3
   },
   "file_extension": ".py",
   "mimetype": "text/x-python",
   "name": "python",
   "nbconvert_exporter": "python",
   "pygments_lexer": "ipython3",
   "version": "3.11.5"
  }
 },
 "nbformat": 4,
 "nbformat_minor": 5
}
