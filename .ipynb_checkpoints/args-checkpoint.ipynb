{
 "cells": [
  {
   "cell_type": "markdown",
   "id": "6e673950",
   "metadata": {},
   "source": [
    "### Python *args and **kwargs"
   ]
  },
  {
   "cell_type": "code",
   "execution_count": 9,
   "id": "fdeb7fa3",
   "metadata": {},
   "outputs": [],
   "source": [
    "def myfunc(*args):\n",
    "    print(args)\n",
    "    return sum(args) * 0.5\n"
   ]
  },
  {
   "cell_type": "markdown",
   "id": "f15a7dde",
   "metadata": {},
   "source": [
    "***args returns a tuple**"
   ]
  },
  {
   "cell_type": "code",
   "execution_count": 10,
   "id": "01b457c2",
   "metadata": {},
   "outputs": [
    {
     "name": "stdout",
     "output_type": "stream",
     "text": [
      "(4, 5, 6, 70, 10, 54, 250)\n"
     ]
    },
    {
     "data": {
      "text/plain": [
       "199.5"
      ]
     },
     "execution_count": 10,
     "metadata": {},
     "output_type": "execute_result"
    }
   ],
   "source": [
    "myfunc(4,5,6,70,10,54,250)"
   ]
  },
  {
   "cell_type": "code",
   "execution_count": 11,
   "id": "c011e5ce",
   "metadata": {},
   "outputs": [],
   "source": [
    "def myfunc(**kwargs):\n",
    "    print(kwargs)\n",
    "    if 'fruit' in kwargs:\n",
    "        print(f\"My fruit of choice is {kwargs['fruit']}.\")\n",
    "    else:\n",
    "        print(\"My fruit of choice is not in the list!\")"
   ]
  },
  {
   "cell_type": "markdown",
   "id": "611d1207",
   "metadata": {},
   "source": [
    "***kwargs returns a dictionary**"
   ]
  },
  {
   "cell_type": "code",
   "execution_count": 12,
   "id": "396ce2ec",
   "metadata": {},
   "outputs": [
    {
     "name": "stdout",
     "output_type": "stream",
     "text": [
      "{'fruit': 'apple'}\n",
      "My fruit of choice is apple.\n"
     ]
    }
   ],
   "source": [
    "myfunc(fruit='apple')"
   ]
  },
  {
   "cell_type": "code",
   "execution_count": 13,
   "id": "4aa486de",
   "metadata": {},
   "outputs": [
    {
     "name": "stdout",
     "output_type": "stream",
     "text": [
      "{'fruit': 'grape', 'vegiee': 'tomato'}\n",
      "My fruit of choice is grape.\n"
     ]
    }
   ],
   "source": [
    "myfunc(fruit='grape', vegiee='tomato')"
   ]
  }
 ],
 "metadata": {
  "kernelspec": {
   "display_name": "Python 3 (ipykernel)",
   "language": "python",
   "name": "python3"
  },
  "language_info": {
   "codemirror_mode": {
    "name": "ipython",
    "version": 3
   },
   "file_extension": ".py",
   "mimetype": "text/x-python",
   "name": "python",
   "nbconvert_exporter": "python",
   "pygments_lexer": "ipython3",
   "version": "3.11.5"
  }
 },
 "nbformat": 4,
 "nbformat_minor": 5
}
